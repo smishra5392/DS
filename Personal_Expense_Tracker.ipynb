{
  "nbformat": 4,
  "nbformat_minor": 0,
  "metadata": {
    "colab": {
      "provenance": [],
      "authorship_tag": "ABX9TyPNSQLVWYtTBUNKW0Pkm3zO",
      "include_colab_link": true
    },
    "kernelspec": {
      "name": "python3",
      "display_name": "Python 3"
    },
    "language_info": {
      "name": "python"
    }
  },
  "cells": [
    {
      "cell_type": "markdown",
      "metadata": {
        "id": "view-in-github",
        "colab_type": "text"
      },
      "source": [
        "<a href=\"https://colab.research.google.com/github/smishra5392/DS/blob/main/Personal_Expense_Tracker.ipynb\" target=\"_parent\"><img src=\"https://colab.research.google.com/assets/colab-badge.svg\" alt=\"Open In Colab\"/></a>"
      ]
    },
    {
      "cell_type": "code",
      "source": [
        "# Step 1: Setup\n",
        "expenses = []\n",
        "budget = 0"
      ],
      "metadata": {
        "id": "x650URc5ZRVO"
      },
      "execution_count": null,
      "outputs": []
    },
    {
      "cell_type": "code",
      "source": [
        "# Step 2: Add an expense (with predefined categories)\n",
        "def add_expense():\n",
        "    date = input(\"Enter date (DD-MM-YYYY): \")\n",
        "\n",
        "    # List of categories\n",
        "    categories = [\"Food\", \"Travel\", \"Bills\", \"Shopping\", \"Entertainment\", \"Other\"]\n",
        "\n",
        "    print(\"\\nChoose a category:\")\n",
        "    for i, c in enumerate(categories, start=1):\n",
        "        print(f\"{i}. {c}\")\n",
        "\n",
        "    try:\n",
        "        choice = int(input(\"Enter category number: \"))\n",
        "        if 1 <= choice <= len(categories):\n",
        "            category = categories[choice - 1]\n",
        "        else:\n",
        "            print(\"Invalid choice! Expense not added.\")\n",
        "            return\n",
        "    except:\n",
        "        print(\"Invalid input! Expense not added.\")\n",
        "        return\n",
        "\n",
        "    try:\n",
        "        amount = float(input(\"Enter amount: \"))\n",
        "    except:\n",
        "        print(\"Invalid amount! Expense not added.\")\n",
        "        return\n",
        "\n",
        "    description = input(\"Enter description: \")\n",
        "\n",
        "    expenses.append({\n",
        "        \"date\": date,\n",
        "        \"category\": category,\n",
        "        \"amount\": amount,\n",
        "        \"description\": description\n",
        "    })\n",
        "    print(\"Expense added successfully!\")\n",
        "\n",
        "\n"
      ],
      "metadata": {
        "id": "xgrc5ubbZ_jh"
      },
      "execution_count": null,
      "outputs": []
    },
    {
      "cell_type": "code",
      "source": [
        "# Step 3: View expenses\n",
        "def view_expenses():\n",
        "    if not expenses:\n",
        "        print(\"No expenses recorded yet.\")\n",
        "        return\n",
        "    print(\"\\n--- All Expenses ---\")\n",
        "    for i, e in enumerate(expenses, start=1):\n",
        "        print(f\"{i}. {e['date']} | {e['category']} | {e['amount']} | {e['description']}\")\n",
        "    print(\"--------------------\")\n"
      ],
      "metadata": {
        "id": "i9nltPu-aCQ1"
      },
      "execution_count": null,
      "outputs": []
    },
    {
      "cell_type": "code",
      "source": [
        "# Step 4: Budget functions\n",
        "def set_budget():\n",
        "    global budget\n",
        "    try:\n",
        "        budget = float(input(\"Enter your monthly budget: \"))\n",
        "        print(f\"Budget set to {budget}\")\n",
        "    except:\n",
        "        print(\"Invalid input!\")\n",
        "\n",
        "def track_budget():\n",
        "    if budget == 0:\n",
        "        print(\"No budget set yet!\")\n",
        "        return\n",
        "    total = sum(e[\"amount\"] for e in expenses)\n",
        "    print(f\"Total spent: {total}\")\n",
        "    if total > budget:\n",
        "        print(\"⚠️ You have exceeded your budget!\")\n",
        "    else:\n",
        "        print(f\"You have {budget - total} left for the month.\")\n"
      ],
      "metadata": {
        "id": "w1pP-mu_aEcV"
      },
      "execution_count": null,
      "outputs": []
    },
    {
      "cell_type": "code",
      "source": [
        "def load_expenses():\n",
        "    if os.path.exists(\"expenses.csv\"):\n",
        "        with open(\"expenses.csv\", \"r\", newline=\"\", encoding=\"utf-8\") as f:\n",
        "            reader = csv.reader(f)\n",
        "            next(reader)  # skip header\n",
        "            for row in reader:\n",
        "                if len(row) == 4:\n",
        "                    expenses.append({\n",
        "                        \"date\": row[0],   # already saved in DD-MM-YYYY\n",
        "                        \"category\": row[1],\n",
        "                        \"amount\": float(row[2]),\n",
        "                        \"description\": row[3]\n",
        "                    })\n",
        "\n",
        "def save_expenses():\n",
        "    with open(\"expenses.csv\", \"w\", newline=\"\", encoding=\"utf-8\") as f:\n",
        "        writer = csv.writer(f)\n",
        "        writer.writerow([\"date\", \"category\", \"amount\", \"description\"])\n",
        "        for e in expenses:\n",
        "            writer.writerow([e[\"date\"], e[\"category\"], e[\"amount\"], e[\"description\"]])\n",
        "\n"
      ],
      "metadata": {
        "id": "wLdynD_waGQr"
      },
      "execution_count": null,
      "outputs": []
    },
    {
      "cell_type": "code",
      "source": [
        "# Step 6: Menu\n",
        "def menu():\n",
        "    load_expenses()\n",
        "    while True:\n",
        "        print(\"\\n==== Expense Tracker ====\")\n",
        "        print(\"1. Add Expense\")\n",
        "        print(\"2. View Expenses\")\n",
        "        print(\"3. Set Budget\")\n",
        "        print(\"4. Track Budget\")\n",
        "        print(\"5. Save & Exit\")\n",
        "\n",
        "        choice = input(\"Enter choice: \")\n",
        "\n",
        "        if choice == \"1\":\n",
        "            add_expense()\n",
        "        elif choice == \"2\":\n",
        "            view_expenses()\n",
        "        elif choice == \"3\":\n",
        "            set_budget()\n",
        "        elif choice == \"4\":\n",
        "            track_budget()\n",
        "        elif choice == \"5\":\n",
        "            save_expenses()\n",
        "            print(\"Expenses saved. Goodbye!\")\n",
        "            break\n",
        "        else:\n",
        "            print(\"Invalid choice, try again.\")\n",
        "\n",
        "menu()\n"
      ],
      "metadata": {
        "colab": {
          "base_uri": "https://localhost:8080/"
        },
        "id": "JT90D9qhaIO2",
        "outputId": "13fffe24-ae0f-48f3-98c3-cf6cd288f371"
      },
      "execution_count": null,
      "outputs": [
        {
          "output_type": "stream",
          "name": "stdout",
          "text": [
            "\n",
            "==== Expense Tracker ====\n",
            "1. Add Expense\n",
            "2. View Expenses\n",
            "3. Set Budget\n",
            "4. Track Budget\n",
            "5. Save & Exit\n",
            "Enter choice: 1\n",
            "Enter date (DD-MM-YYYY): 07-09-2025\n",
            "\n",
            "Choose a category:\n",
            "1. Food\n",
            "2. Travel\n",
            "3. Bills\n",
            "4. Shopping\n",
            "5. Entertainment\n",
            "6. Other\n",
            "Enter category number: 1\n",
            "Enter amount: 100\n",
            "Enter description: Indian\n",
            "Expense added successfully!\n",
            "\n",
            "==== Expense Tracker ====\n",
            "1. Add Expense\n",
            "2. View Expenses\n",
            "3. Set Budget\n",
            "4. Track Budget\n",
            "5. Save & Exit\n",
            "Enter choice: 2\n",
            "\n",
            "--- All Expenses ---\n",
            "1. 07-09-2025 | Food | 100.0 | Indian\n",
            "--------------------\n",
            "\n",
            "==== Expense Tracker ====\n",
            "1. Add Expense\n",
            "2. View Expenses\n",
            "3. Set Budget\n",
            "4. Track Budget\n",
            "5. Save & Exit\n",
            "Enter choice: 3\n",
            "Enter your monthly budget: 100\n",
            "Budget set to 100.0\n",
            "\n",
            "==== Expense Tracker ====\n",
            "1. Add Expense\n",
            "2. View Expenses\n",
            "3. Set Budget\n",
            "4. Track Budget\n",
            "5. Save & Exit\n",
            "Enter choice: 4\n",
            "Total spent: 100.0\n",
            "You have 0.0 left for the month.\n",
            "\n",
            "==== Expense Tracker ====\n",
            "1. Add Expense\n",
            "2. View Expenses\n",
            "3. Set Budget\n",
            "4. Track Budget\n",
            "5. Save & Exit\n",
            "Enter choice: 5\n",
            "Expenses saved. Goodbye!\n"
          ]
        }
      ]
    },
    {
      "cell_type": "code",
      "source": [],
      "metadata": {
        "id": "rJQJGXzMcJZ8"
      },
      "execution_count": null,
      "outputs": []
    },
    {
      "cell_type": "code",
      "source": [],
      "metadata": {
        "id": "Px170wygb1c1"
      },
      "execution_count": null,
      "outputs": []
    },
    {
      "cell_type": "code",
      "source": [],
      "metadata": {
        "id": "-ngQbNl5b0Os"
      },
      "execution_count": null,
      "outputs": []
    },
    {
      "cell_type": "code",
      "source": [],
      "metadata": {
        "id": "sD_r2pIybrS1"
      },
      "execution_count": null,
      "outputs": []
    },
    {
      "cell_type": "code",
      "source": [],
      "metadata": {
        "id": "VgcGIB2eaKct"
      },
      "execution_count": null,
      "outputs": []
    }
  ]
}