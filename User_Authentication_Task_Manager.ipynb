{
  "nbformat": 4,
  "nbformat_minor": 0,
  "metadata": {
    "colab": {
      "provenance": [],
      "authorship_tag": "ABX9TyPTRXEZvxYtsyEKOJztmOw6",
      "include_colab_link": true
    },
    "kernelspec": {
      "name": "python3",
      "display_name": "Python 3"
    },
    "language_info": {
      "name": "python"
    }
  },
  "cells": [
    {
      "cell_type": "markdown",
      "metadata": {
        "id": "view-in-github",
        "colab_type": "text"
      },
      "source": [
        "<a href=\"https://colab.research.google.com/github/smishra5392/DS/blob/main/User_Authentication_Task_Manager.ipynb\" target=\"_parent\"><img src=\"https://colab.research.google.com/assets/colab-badge.svg\" alt=\"Open In Colab\"/></a>"
      ]
    },
    {
      "cell_type": "code",
      "source": [
        "import csv\n",
        "import os\n",
        "\n",
        "USERS_FILE = \"users.csv\"\n",
        "TASKS_FILE = \"tasks.csv\"\n",
        "\n",
        "# Create users.csv if not present\n",
        "if not os.path.exists(USERS_FILE):\n",
        "    with open(USERS_FILE, \"w\", newline=\"\", encoding=\"utf-8\") as f:\n",
        "        writer = csv.writer(f)\n",
        "        writer.writerow([\"username\", \"password\"])\n",
        "\n",
        "# Create tasks.csv if not present\n",
        "if not os.path.exists(TASKS_FILE):\n",
        "    with open(TASKS_FILE, \"w\", newline=\"\", encoding=\"utf-8\") as f:\n",
        "        writer = csv.writer(f)\n",
        "        writer.writerow([\"username\", \"task_id\", \"description\", \"status\"])"
      ],
      "metadata": {
        "id": "By7EPTGNgiSa"
      },
      "execution_count": 4,
      "outputs": []
    },
    {
      "cell_type": "code",
      "source": [
        "def register_user():\n",
        "    username = input(\"Enter new username: \")\n",
        "    password = input(\"Enter new password: \")\n",
        "\n",
        "    with open(USERS_FILE, \"r\", newline=\"\", encoding=\"utf-8\") as f:\n",
        "        reader = csv.reader(f)\n",
        "        for row in reader:\n",
        "            if row and row[0] == username:\n",
        "                print(\"Username already exists!\")\n",
        "                return False\n",
        "\n",
        "    with open(USERS_FILE, \"a\", newline=\"\", encoding=\"utf-8\") as f:\n",
        "        writer = csv.writer(f)\n",
        "        writer.writerow([username, password])\n",
        "    print(\"User registered successfully!\")\n",
        "    return True"
      ],
      "metadata": {
        "id": "UUDN-ic3giuI"
      },
      "execution_count": 5,
      "outputs": []
    },
    {
      "cell_type": "code",
      "source": [
        "def login_user():\n",
        "    username = input(\"Enter username: \")\n",
        "    password = input(\"Enter password: \")\n",
        "\n",
        "    with open(USERS_FILE, \"r\", newline=\"\", encoding=\"utf-8\") as f:\n",
        "        reader = csv.reader(f)\n",
        "        for row in reader:\n",
        "            if row and row[0] == username and row[1] == password:\n",
        "                print(\"Login successful!\")\n",
        "                return username\n",
        "    print(\"Invalid username or password!\")\n",
        "    return None"
      ],
      "metadata": {
        "id": "s0H3ADy9guZ8"
      },
      "execution_count": 6,
      "outputs": []
    },
    {
      "cell_type": "code",
      "source": [
        "def add_task(username):\n",
        "    task_id = 1\n",
        "    if os.path.exists(TASKS_FILE):\n",
        "        with open(TASKS_FILE, \"r\", newline=\"\", encoding=\"utf-8\") as f:\n",
        "            reader = list(csv.reader(f))\n",
        "            task_id = len(reader)  # simple ID based on line count\n",
        "\n",
        "    description = input(\"Enter task description: \")\n",
        "    with open(TASKS_FILE, \"a\", newline=\"\", encoding=\"utf-8\") as f:\n",
        "        writer = csv.writer(f)\n",
        "        writer.writerow([username, task_id, description, \"Pending\"])\n",
        "    print(\"Task added successfully!\")\n"
      ],
      "metadata": {
        "id": "xh3hq9Dfg0ev"
      },
      "execution_count": 7,
      "outputs": []
    },
    {
      "cell_type": "code",
      "source": [
        "def view_tasks(username):\n",
        "    print(\"\\n--- Your Tasks ---\")\n",
        "    with open(TASKS_FILE, \"r\", newline=\"\", encoding=\"utf-8\") as f:\n",
        "        reader = csv.reader(f)\n",
        "        for row in reader:\n",
        "            if row and row[0] == username:\n",
        "                print(f\"ID: {row[1]} | {row[2]} | Status: {row[3]}\")\n"
      ],
      "metadata": {
        "id": "n-fZkvPIg6ZB"
      },
      "execution_count": 8,
      "outputs": []
    },
    {
      "cell_type": "code",
      "source": [
        "def mark_task_completed(username):\n",
        "    task_id = input(\"Enter task ID to mark as completed: \")\n",
        "    rows = []\n",
        "    updated = False\n",
        "    with open(TASKS_FILE, \"r\", newline=\"\", encoding=\"utf-8\") as f:\n",
        "        reader = csv.reader(f)\n",
        "        for row in reader:\n",
        "            if row and row[0] == username and row[1] == task_id:\n",
        "                row[3] = \"Completed\"\n",
        "                updated = True\n",
        "            rows.append(row)\n",
        "\n",
        "    with open(TASKS_FILE, \"w\", newline=\"\", encoding=\"utf-8\") as f:\n",
        "        writer = csv.writer(f)\n",
        "        writer.writerows(rows)\n",
        "\n",
        "    if updated:\n",
        "        print(\"Task marked as completed!\")\n",
        "    else:\n",
        "        print(\"Task not found.\")\n"
      ],
      "metadata": {
        "id": "oCRVrat1g_nb"
      },
      "execution_count": 9,
      "outputs": []
    },
    {
      "cell_type": "code",
      "source": [
        "def delete_task(username):\n",
        "    task_id = input(\"Enter task ID to delete: \")\n",
        "    rows = []\n",
        "    deleted = False\n",
        "    with open(TASKS_FILE, \"r\", newline=\"\", encoding=\"utf-8\") as f:\n",
        "        reader = csv.reader(f)\n",
        "        for row in reader:\n",
        "            if row and row[0] == username and row[1] == task_id:\n",
        "                deleted = True\n",
        "                continue\n",
        "            rows.append(row)\n",
        "\n",
        "    with open(TASKS_FILE, \"w\", newline=\"\", encoding=\"utf-8\") as f:\n",
        "        writer = csv.writer(f)\n",
        "        writer.writerows(rows)\n",
        "\n",
        "    if deleted:\n",
        "        print(\"Task deleted successfully!\")\n",
        "    else:\n",
        "        print(\"Task not found.\")\n"
      ],
      "metadata": {
        "id": "QvhY-eW-hEmh"
      },
      "execution_count": 10,
      "outputs": []
    },
    {
      "cell_type": "code",
      "source": [
        "def task_menu(username):\n",
        "    while True:\n",
        "        print(\"\\n==== Task Manager ====\")\n",
        "        print(\"1. Add Task\")\n",
        "        print(\"2. View Tasks\")\n",
        "        print(\"3. Mark Task Completed\")\n",
        "        print(\"4. Delete Task\")\n",
        "        print(\"5. Logout\")\n",
        "\n",
        "        choice = input(\"Enter choice: \")\n",
        "\n",
        "        if choice == \"1\":\n",
        "            add_task(username)\n",
        "        elif choice == \"2\":\n",
        "            view_tasks(username)\n",
        "        elif choice == \"3\":\n",
        "            mark_task_completed(username)\n",
        "        elif choice == \"4\":\n",
        "            delete_task(username)\n",
        "        elif choice == \"5\":\n",
        "            print(\"Logging out...\")\n",
        "            break\n",
        "        else:\n",
        "            print(\"Invalid choice, try again.\")\n"
      ],
      "metadata": {
        "id": "or_G_EBMhMzY"
      },
      "execution_count": 11,
      "outputs": []
    },
    {
      "cell_type": "code",
      "source": [
        "def main_menu():\n",
        "    while True:\n",
        "        print(\"\\n==== Welcome to Task Manager ====\")\n",
        "        print(\"1. Register\")\n",
        "        print(\"2. Login\")\n",
        "        print(\"3. Exit\")\n",
        "\n",
        "        choice = input(\"Enter choice: \")\n",
        "\n",
        "        if choice == \"1\":\n",
        "            register_user()\n",
        "        elif choice == \"2\":\n",
        "            user = login_user()\n",
        "            if user:\n",
        "                task_menu(user)\n",
        "        elif choice == \"3\":\n",
        "            print(\"Goodbye!\")\n",
        "            break\n",
        "        else:\n",
        "            print(\"Invalid choice, try again.\")\n",
        "\n",
        "main_menu()\n"
      ],
      "metadata": {
        "colab": {
          "base_uri": "https://localhost:8080/"
        },
        "id": "Eob1mM6ZhSN6",
        "outputId": "0ce62e28-a7d2-41a8-bbf4-8cc624ff3fd5"
      },
      "execution_count": 13,
      "outputs": [
        {
          "output_type": "stream",
          "name": "stdout",
          "text": [
            "\n",
            "==== Welcome to Task Manager ====\n",
            "1. Register\n",
            "2. Login\n",
            "3. Exit\n",
            "Enter choice: 2\n",
            "Enter username: shabby\n",
            "Enter password: shabby\n",
            "Login successful!\n",
            "\n",
            "==== Task Manager ====\n",
            "1. Add Task\n",
            "2. View Tasks\n",
            "3. Mark Task Completed\n",
            "4. Delete Task\n",
            "5. Logout\n",
            "Enter choice: 1\n",
            "Enter task description: abc\n",
            "Task added successfully!\n",
            "\n",
            "==== Task Manager ====\n",
            "1. Add Task\n",
            "2. View Tasks\n",
            "3. Mark Task Completed\n",
            "4. Delete Task\n",
            "5. Logout\n",
            "Enter choice: 2\n",
            "\n",
            "--- Your Tasks ---\n",
            "ID: 1 | abc | Status: Pending\n",
            "\n",
            "==== Task Manager ====\n",
            "1. Add Task\n",
            "2. View Tasks\n",
            "3. Mark Task Completed\n",
            "4. Delete Task\n",
            "5. Logout\n",
            "Enter choice: 3\n",
            "Enter task ID to mark as completed: 1\n",
            "Task marked as completed!\n",
            "\n",
            "==== Task Manager ====\n",
            "1. Add Task\n",
            "2. View Tasks\n",
            "3. Mark Task Completed\n",
            "4. Delete Task\n",
            "5. Logout\n",
            "Enter choice: 2\n",
            "\n",
            "--- Your Tasks ---\n",
            "ID: 1 | abc | Status: Completed\n",
            "\n",
            "==== Task Manager ====\n",
            "1. Add Task\n",
            "2. View Tasks\n",
            "3. Mark Task Completed\n",
            "4. Delete Task\n",
            "5. Logout\n",
            "Enter choice: 4\n",
            "Enter task ID to delete: 1\n",
            "Task deleted successfully!\n",
            "\n",
            "==== Task Manager ====\n",
            "1. Add Task\n",
            "2. View Tasks\n",
            "3. Mark Task Completed\n",
            "4. Delete Task\n",
            "5. Logout\n",
            "Enter choice: 2\n",
            "\n",
            "--- Your Tasks ---\n",
            "\n",
            "==== Task Manager ====\n",
            "1. Add Task\n",
            "2. View Tasks\n",
            "3. Mark Task Completed\n",
            "4. Delete Task\n",
            "5. Logout\n",
            "Enter choice: 5\n",
            "Logging out...\n",
            "\n",
            "==== Welcome to Task Manager ====\n",
            "1. Register\n",
            "2. Login\n",
            "3. Exit\n",
            "Enter choice: 3\n",
            "Goodbye!\n"
          ]
        }
      ]
    },
    {
      "cell_type": "code",
      "source": [],
      "metadata": {
        "id": "E0c8whmxh49z"
      },
      "execution_count": null,
      "outputs": []
    },
    {
      "cell_type": "code",
      "source": [],
      "metadata": {
        "id": "TpH227b0hXfS"
      },
      "execution_count": null,
      "outputs": []
    }
  ]
}